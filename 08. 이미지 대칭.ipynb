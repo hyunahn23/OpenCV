{
 "cells": [
  {
   "cell_type": "markdown",
   "id": "f197964b",
   "metadata": {},
   "source": [
    "# 8. 이미지 대칭"
   ]
  },
  {
   "cell_type": "markdown",
   "id": "2e8917fb",
   "metadata": {},
   "source": [
    "## 좌우 대칭"
   ]
  },
  {
   "cell_type": "code",
   "execution_count": 1,
   "id": "9e7325bf",
   "metadata": {},
   "outputs": [],
   "source": [
    "import cv2\n",
    "img = cv2.imread('img.jpg')\n",
    "flip_horizontal = cv2.flip(img, 1) # flipCode > 0 : 좌우 대칭 Horizontal\n",
    "\n",
    "cv2.imshow('img', img)\n",
    "cv2.imshow('flip_horizontal', flip_horizontal)\n",
    "cv2.waitKey(0)\n",
    "cv2.destroyAllWindows()"
   ]
  },
  {
   "cell_type": "markdown",
   "id": "066b2f4e",
   "metadata": {},
   "source": [
    "## 상하 대칭"
   ]
  },
  {
   "cell_type": "code",
   "execution_count": 2,
   "id": "e4ff06d6",
   "metadata": {},
   "outputs": [],
   "source": [
    "import cv2\n",
    "img = cv2.imread('img.jpg')\n",
    "flip_vertical = cv2.flip(img, 0) # flipCode == 0 : 상하 대칭 Vertical\n",
    "\n",
    "cv2.imshow('img', img)\n",
    "cv2.imshow('flip_vertical', flip_vertical)\n",
    "cv2.waitKey(0)\n",
    "cv2.destroyAllWindows()"
   ]
  },
  {
   "cell_type": "markdown",
   "id": "4e10b8b8",
   "metadata": {},
   "source": [
    "## 상하좌우 대칭"
   ]
  },
  {
   "cell_type": "code",
   "execution_count": 3,
   "id": "cb008038",
   "metadata": {},
   "outputs": [],
   "source": [
    "import cv2\n",
    "img = cv2.imread('img.jpg')\n",
    "flip_both = cv2.flip(img, -1) # flipCode < 0 : 상하좌우 대칭\n",
    "\n",
    "cv2.imshow('img', img)\n",
    "cv2.imshow('flip_both', flip_both)\n",
    "cv2.waitKey(0)\n",
    "cv2.destroyAllWindows()"
   ]
  }
 ],
 "metadata": {
  "kernelspec": {
   "display_name": "Python 3",
   "language": "python",
   "name": "python3"
  },
  "language_info": {
   "codemirror_mode": {
    "name": "ipython",
    "version": 3
   },
   "file_extension": ".py",
   "mimetype": "text/x-python",
   "name": "python",
   "nbconvert_exporter": "python",
   "pygments_lexer": "ipython3",
   "version": "3.8.8"
  }
 },
 "nbformat": 4,
 "nbformat_minor": 5
}
